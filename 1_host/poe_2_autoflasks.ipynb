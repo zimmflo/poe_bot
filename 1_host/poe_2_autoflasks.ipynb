{
 "cells": [
  {
   "cell_type": "code",
   "execution_count": null,
   "metadata": {},
   "outputs": [],
   "source": [
    "import sys\n",
    "from ast import literal_eval\n",
    "\n",
    "from utils.gamehelper import PoeBot"
   ]
  },
  {
   "cell_type": "code",
   "execution_count": 2,
   "metadata": {},
   "outputs": [],
   "source": [
    "notebook_dev = False\n",
    "# readability\n",
    "poe_bot: PoeBot"
   ]
  },
  {
   "cell_type": "code",
   "execution_count": null,
   "metadata": {},
   "outputs": [
    {
     "name": "stdout",
     "output_type": "stream",
     "text": [
      "--f=c:\\Users\\1\\AppData\\Roaming\\jupyter\\runtime\\kernel-v2-12672bSZQUyzE7IZu.json\n",
      "cannot parse config from cli, using default\\dev one\n",
      "config to run {'REMOTE_IP': '172.23.178.57', 'unique_id': '7d1165934e24534a1ba5', 'build': 'EaBallistasEle', 'password': None, 'max_lvl': 101, 'chromatics_recipe': True, 'force_reset_temp': False}\n"
     ]
    }
   ],
   "source": [
    "default_config = {\n",
    "  \"REMOTE_IP\": \"172.23.178.57\",  # z2\n",
    "  \"unique_id\": \"poe_2_test\",\n",
    "  \"build\": \"EaBallistasEle\",\n",
    "  \"password\": None,\n",
    "  \"max_lvl\": 101,\n",
    "  \"chromatics_recipe\": True,\n",
    "  \"force_reset_temp\": False,\n",
    "}\n",
    "\n",
    "\n",
    "try:\n",
    "  i = sys.argv[1]\n",
    "  print(i)\n",
    "  parsed_config = literal_eval(i)\n",
    "  print(\"successfully parsed cli config\")\n",
    "  print(f\"parsed_config: {parsed_config}\")\n",
    "except:\n",
    "  print(\"cannot parse config from cli, using default\\dev one\")\n",
    "  notebook_dev = True\n",
    "  parsed_config = default_config\n",
    "  parsed_config[\"unique_id\"] = PoeBot.getDevKey()\n",
    "\n",
    "config = {}\n",
    "\n",
    "for key in default_config.keys():\n",
    "  config[key] = parsed_config.get(key, default_config[key])\n",
    "\n",
    "print(f\"config to run {config}\")"
   ]
  },
  {
   "cell_type": "code",
   "execution_count": null,
   "metadata": {},
   "outputs": [
    {
     "name": "stdout",
     "output_type": "stream",
     "text": [
      "running aqueduct using: REMOTE_IP: 172.23.178.57 unique_id: 7d1165934e24534a1ba5 max_lvl: 101 chromatics_recipe: True force_reset_temp: False\n"
     ]
    }
   ],
   "source": [
    "REMOTE_IP = config[\"REMOTE_IP\"]  # REMOTE_IP\n",
    "UNIQUE_ID = config[\"unique_id\"]  # unique id\n",
    "MAX_LVL = config.get(\"max_lvl\")\n",
    "CHROMATICS_RECIPE = config[\"chromatics_recipe\"]\n",
    "BUILD_NAME = config[\"build\"]  # build_name\n",
    "password = config[\"password\"]\n",
    "force_reset_temp = config[\"force_reset_temp\"]\n",
    "print(\n",
    "  f\"running aqueduct using: REMOTE_IP: {REMOTE_IP} unique_id: {UNIQUE_ID} max_lvl: {MAX_LVL} chromatics_recipe: {CHROMATICS_RECIPE} force_reset_temp: {force_reset_temp}\"\n",
    ")"
   ]
  },
  {
   "cell_type": "code",
   "execution_count": null,
   "metadata": {},
   "outputs": [
    {
     "name": "stdout",
     "output_type": "stream",
     "text": [
      "[Controller] establishing connection with ('172.23.178.57', 50007)\n",
      "[temp] loaded from file AfkTempData\n",
      "[temp] loaded from file StashTempData\n",
      "build is not assigned, using any functions may throw errors\n",
      "poe bot, v: 3.25.15 init at 1734260825.384107\n"
     ]
    }
   ],
   "source": [
    "poe_bot = PoeBot(unique_id=UNIQUE_ID, remote_ip=REMOTE_IP, password=password)\n",
    "poe_bot.check_resolution = False"
   ]
  },
  {
   "cell_type": "code",
   "execution_count": 6,
   "metadata": {},
   "outputs": [
    {
     "name": "stdout",
     "output_type": "stream",
     "text": [
      "[poebot] #refreshAll call at 1734260825.4071088\n"
     ]
    }
   ],
   "source": [
    "poe_bot.refreshAll()\n"
   ]
  },
  {
   "cell_type": "code",
   "execution_count": 7,
   "metadata": {},
   "outputs": [],
   "source": [
    "from utils.combat import AutoFlasks\n"
   ]
  },
  {
   "cell_type": "code",
   "execution_count": 8,
   "metadata": {},
   "outputs": [],
   "source": [
    "auto_flasks = AutoFlasks(poe_bot=poe_bot)"
   ]
  },
  {
   "cell_type": "code",
   "execution_count": 9,
   "metadata": {},
   "outputs": [
    {
     "ename": "KeyboardInterrupt",
     "evalue": "",
     "output_type": "error",
     "traceback": [
      "\u001b[1;31m---------------------------------------------------------------------------\u001b[0m",
      "\u001b[1;31mKeyboardInterrupt\u001b[0m                         Traceback (most recent call last)",
      "Cell \u001b[1;32mIn[9], line 2\u001b[0m\n\u001b[0;32m      1\u001b[0m \u001b[38;5;28;01mwhile\u001b[39;00m \u001b[38;5;28;01mTrue\u001b[39;00m:\n\u001b[1;32m----> 2\u001b[0m   \u001b[43mpoe_bot\u001b[49m\u001b[38;5;241;43m.\u001b[39;49m\u001b[43mrefreshInstanceData\u001b[49m\u001b[43m(\u001b[49m\u001b[43m)\u001b[49m\n\u001b[0;32m      3\u001b[0m   auto_flasks\u001b[38;5;241m.\u001b[39museFlasks()\n",
      "File \u001b[1;32mc:\\Path of Exile\\p2\\1_host\\utils\\gamehelper.py:190\u001b[0m, in \u001b[0;36mPoeBot.refreshInstanceData\u001b[1;34m(self, refreshed_data, force, check_if_lag, reset_timer, raise_if_loading)\u001b[0m\n\u001b[0;32m    188\u001b[0m     wait_till_next_action \u001b[38;5;241m=\u001b[39m \u001b[38;5;28mself\u001b[39m\u001b[38;5;241m.\u001b[39mcan_do_action_every \u001b[38;5;241m-\u001b[39m time_passed_since_last_action\n\u001b[0;32m    189\u001b[0m     \u001b[38;5;28;01mif\u001b[39;00m \u001b[38;5;28mself\u001b[39m\u001b[38;5;241m.\u001b[39mdebug \u001b[38;5;129;01mis\u001b[39;00m \u001b[38;5;28;01mTrue\u001b[39;00m:\u001b[38;5;28mprint\u001b[39m(\u001b[38;5;124mf\u001b[39m\u001b[38;5;124m'\u001b[39m\u001b[38;5;124mtoo fast, sleep for \u001b[39m\u001b[38;5;132;01m{\u001b[39;00mwait_till_next_action\u001b[38;5;132;01m}\u001b[39;00m\u001b[38;5;124m'\u001b[39m)\n\u001b[1;32m--> 190\u001b[0m     \u001b[43mtime\u001b[49m\u001b[38;5;241;43m.\u001b[39;49m\u001b[43msleep\u001b[49m\u001b[43m(\u001b[49m\u001b[43mwait_till_next_action\u001b[49m\u001b[43m)\u001b[49m\n\u001b[0;32m    192\u001b[0m \u001b[38;5;28;01mif\u001b[39;00m refreshed_data \u001b[38;5;129;01mis\u001b[39;00m \u001b[38;5;28;01mNone\u001b[39;00m:\n\u001b[0;32m    193\u001b[0m   refreshed_data \u001b[38;5;241m=\u001b[39m \u001b[38;5;28mself\u001b[39m\u001b[38;5;241m.\u001b[39mgetData(\u001b[38;5;124m\"\u001b[39m\u001b[38;5;124mpartial\u001b[39m\u001b[38;5;124m\"\u001b[39m)\n",
      "\u001b[1;31mKeyboardInterrupt\u001b[0m: "
     ]
    }
   ],
   "source": [
    "while True:\n",
    "  poe_bot.refreshInstanceData()\n",
    "  auto_flasks.useFlasks()\n"
   ]
  },
  {
   "cell_type": "code",
   "execution_count": null,
   "metadata": {},
   "outputs": [],
   "source": [
    "raise 404"
   ]
  },
  {
   "cell_type": "code",
   "execution_count": 54,
   "metadata": {},
   "outputs": [
    {
     "name": "stdout",
     "output_type": "stream",
     "text": [
      "[poebot] #refreshAll call at 1734272934.9876904\n"
     ]
    },
    {
     "data": {
      "text/plain": [
       "[408, 358]"
      ]
     },
     "execution_count": 54,
     "metadata": {},
     "output_type": "execute_result"
    }
   ],
   "source": [
    "poe_bot.refreshAll()\n",
    "poe_bot.game_data.player.grid_pos.toList()"
   ]
  },
  {
   "cell_type": "code",
   "execution_count": null,
   "metadata": {},
   "outputs": [
    {
     "data": {
      "text/plain": [
       "<matplotlib.image.AxesImage at 0x223239e96a0>"
      ]
     },
     "execution_count": 55,
     "metadata": {},
     "output_type": "execute_result"
    },
    {
     "data": {
      "image/png": "[encoded data removed]",
      "text/plain": [
       "<Figure size 432x288 with 1 Axes>"
      ]
     },
     "metadata": {
      "needs_background": "light"
     },
     "output_type": "display_data"
    }
   ],
   "source": [
    "import matplotlib.pyplot as plt\n",
    "\n",
    "plt.imshow(poe_bot.game_data.terrain.passable)"
   ]
  },
  {
   "cell_type": "code",
   "execution_count": null,
   "metadata": {},
   "outputs": [
    {
     "data": {
      "text/plain": [
       "<matplotlib.image.AxesImage at 0x223239a0970>"
      ]
     },
     "execution_count": 45,
     "metadata": {},
     "output_type": "execute_result"
    },
    {
     "data": {
      "image/png": "[encoded data removed]",
      "text/plain": [
       "<Figure size 432x288 with 1 Axes>"
      ]
     },
     "metadata": {
      "needs_background": "light"
     },
     "output_type": "display_data"
    }
   ],
   "source": [
    "import matplotlib.pyplot as plt\n",
    "\n",
    "plt.imshow(poe_bot.game_data.terrain.passable)"
   ]
  }
 ],
 "metadata": {
  "kernelspec": {
   "display_name": "Python 3",
   "language": "python",
   "name": "python3"
  },
  "language_info": {
   "codemirror_mode": {
    "name": "ipython",
    "version": 3
   },
   "file_extension": ".py",
   "mimetype": "text/x-python",
   "name": "python",
   "nbconvert_exporter": "python",
   "pygments_lexer": "ipython3",
   "version": "3.8.10"
  },
  "orig_nbformat": 4,
  "vscode": {
   "interpreter": {
    "hash": "9a77788ff6b86baaa40baa2ee0d4965d2ef3f4c5f9e8f753fc08e7b362f3103b"
   }
  }
 },
 "nbformat": 4,
 "nbformat_minor": 2
}
